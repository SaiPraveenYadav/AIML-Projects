{
 "cells": [
  {
   "cell_type": "code",
   "execution_count": null,
   "metadata": {
    "id": "1mZ3FBSoN2h3"
   },
   "outputs": [],
   "source": [
    "from google.colab import drive"
   ]
  },
  {
   "cell_type": "code",
   "execution_count": null,
   "metadata": {
    "colab": {
     "base_uri": "https://localhost:8080/"
    },
    "id": "zdX-KakeN5WM",
    "outputId": "6a8a546f-df1c-4c28-a04f-a4e11da0820a"
   },
   "outputs": [
    {
     "name": "stdout",
     "output_type": "stream",
     "text": [
      "Mounted at /content/gdrive\n"
     ]
    }
   ],
   "source": [
    "drive.mount(\"/content/gdrive\")"
   ]
  },
  {
   "cell_type": "code",
   "execution_count": null,
   "metadata": {
    "id": "JbN64xrfOtYD"
   },
   "outputs": [],
   "source": [
    "import pandas as pd\n",
    "import re\n",
    "from nltk.corpus import stopwords\n",
    "from sklearn.feature_extraction.text import CountVectorizer\n",
    "from sklearn.model_selection import train_test_split\n",
    "from nltk.stem.snowball import SnowballStemmer\n",
    "import warnings\n",
    "warnings.filterwarnings('ignore')\n",
    "import pandas_profiling as pp\n",
    "import seaborn as sns\n",
    "import matplotlib as plt\n",
    "%matplotlib inline"
   ]
  },
  {
   "cell_type": "code",
   "execution_count": null,
   "metadata": {
    "colab": {
     "base_uri": "https://localhost:8080/"
    },
    "id": "EHuZH9qbT1_I",
    "outputId": "604b88e6-6c56-45bb-e011-af3edc8ac256"
   },
   "outputs": [
    {
     "name": "stdout",
     "output_type": "stream",
     "text": [
      "[nltk_data] Downloading package stopwords to /root/nltk_data...\n",
      "[nltk_data]   Package stopwords is already up-to-date!\n"
     ]
    },
    {
     "data": {
      "text/plain": [
       "True"
      ]
     },
     "execution_count": 33,
     "metadata": {
      "tags": []
     },
     "output_type": "execute_result"
    }
   ],
   "source": [
    "import nltk\n",
    "nltk.download(\"stopwords\")"
   ]
  },
  {
   "cell_type": "code",
   "execution_count": null,
   "metadata": {
    "colab": {
     "base_uri": "https://localhost:8080/"
    },
    "id": "Mb2mIjS3QQOB",
    "outputId": "3e5702f9-2cae-4e30-9894-5e6c089bbced"
   },
   "outputs": [
    {
     "name": "stdout",
     "output_type": "stream",
     "text": [
      "blogtext.csv\n"
     ]
    }
   ],
   "source": [
    "!ls \"/content/gdrive/MyDrive/AIML/Projects/NLP1\""
   ]
  },
  {
   "cell_type": "markdown",
   "metadata": {
    "id": "h_cmxjAzP0w_"
   },
   "source": [
    "**1. Import and analyse the data set.**"
   ]
  },
  {
   "cell_type": "code",
   "execution_count": null,
   "metadata": {
    "id": "j5Q5Awg2QnCJ"
   },
   "outputs": [],
   "source": [
    "#reading the Data\n",
    "blog_df = pd.read_csv(\"/content/gdrive/MyDrive/AIML/Projects/NLP1/blogtext.csv\")\n"
   ]
  },
  {
   "cell_type": "code",
   "execution_count": null,
   "metadata": {
    "colab": {
     "base_uri": "https://localhost:8080/"
    },
    "id": "R0Lg7ew6Q2uU",
    "outputId": "58d11c39-3d4b-4680-92bb-72743ffa8288"
   },
   "outputs": [
    {
     "data": {
      "text/plain": [
       "(681284, 7)"
      ]
     },
     "execution_count": 8,
     "metadata": {
      "tags": []
     },
     "output_type": "execute_result"
    }
   ],
   "source": [
    "#Shape of data\n",
    "blog_df.shape"
   ]
  },
  {
   "cell_type": "code",
   "execution_count": null,
   "metadata": {
    "colab": {
     "base_uri": "https://localhost:8080/",
     "height": 203
    },
    "id": "7ntr2aBHQ8yw",
    "outputId": "eaacabc8-74e8-45e7-aedf-b0dcbe3ba553"
   },
   "outputs": [
    {
     "data": {
      "text/html": [
       "<div>\n",
       "<style scoped>\n",
       "    .dataframe tbody tr th:only-of-type {\n",
       "        vertical-align: middle;\n",
       "    }\n",
       "\n",
       "    .dataframe tbody tr th {\n",
       "        vertical-align: top;\n",
       "    }\n",
       "\n",
       "    .dataframe thead th {\n",
       "        text-align: right;\n",
       "    }\n",
       "</style>\n",
       "<table border=\"1\" class=\"dataframe\">\n",
       "  <thead>\n",
       "    <tr style=\"text-align: right;\">\n",
       "      <th></th>\n",
       "      <th>id</th>\n",
       "      <th>gender</th>\n",
       "      <th>age</th>\n",
       "      <th>topic</th>\n",
       "      <th>sign</th>\n",
       "      <th>date</th>\n",
       "      <th>text</th>\n",
       "    </tr>\n",
       "  </thead>\n",
       "  <tbody>\n",
       "    <tr>\n",
       "      <th>541925</th>\n",
       "      <td>1498713</td>\n",
       "      <td>female</td>\n",
       "      <td>23</td>\n",
       "      <td>Non-Profit</td>\n",
       "      <td>Sagittarius</td>\n",
       "      <td>15,May,2004</td>\n",
       "      <td>Under the Tuscan Sun   :  I started off ...</td>\n",
       "    </tr>\n",
       "    <tr>\n",
       "      <th>499689</th>\n",
       "      <td>3609229</td>\n",
       "      <td>female</td>\n",
       "      <td>23</td>\n",
       "      <td>indUnk</td>\n",
       "      <td>Aquarius</td>\n",
       "      <td>28,July,2004</td>\n",
       "      <td>We went to the old city today in our sm...</td>\n",
       "    </tr>\n",
       "    <tr>\n",
       "      <th>342692</th>\n",
       "      <td>896714</td>\n",
       "      <td>female</td>\n",
       "      <td>23</td>\n",
       "      <td>Arts</td>\n",
       "      <td>Scorpio</td>\n",
       "      <td>05,March,2003</td>\n",
       "      <td>well spring break is coming up.  p....</td>\n",
       "    </tr>\n",
       "    <tr>\n",
       "      <th>437457</th>\n",
       "      <td>1500723</td>\n",
       "      <td>male</td>\n",
       "      <td>23</td>\n",
       "      <td>Technology</td>\n",
       "      <td>Cancer</td>\n",
       "      <td>14,March,2004</td>\n",
       "      <td>:-))...   'You see I am black. I ...</td>\n",
       "    </tr>\n",
       "    <tr>\n",
       "      <th>280343</th>\n",
       "      <td>958176</td>\n",
       "      <td>male</td>\n",
       "      <td>17</td>\n",
       "      <td>Non-Profit</td>\n",
       "      <td>Gemini</td>\n",
       "      <td>02,June,2004</td>\n",
       "      <td>O yeah,  that's  the one. Thx.  Okie, a...</td>\n",
       "    </tr>\n",
       "  </tbody>\n",
       "</table>\n",
       "</div>"
      ],
      "text/plain": [
       "             id  ...                                               text\n",
       "541925  1498713  ...        Under the Tuscan Sun   :  I started off ...\n",
       "499689  3609229  ...         We went to the old city today in our sm...\n",
       "342692   896714  ...             well spring break is coming up.  p....\n",
       "437457  1500723  ...               :-))...   'You see I am black. I ...\n",
       "280343   958176  ...         O yeah,  that's  the one. Thx.  Okie, a...\n",
       "\n",
       "[5 rows x 7 columns]"
      ]
     },
     "execution_count": 9,
     "metadata": {
      "tags": []
     },
     "output_type": "execute_result"
    }
   ],
   "source": [
    "#print first five rows\n",
    "blog_df.sample(5)"
   ]
  },
  {
   "cell_type": "code",
   "execution_count": null,
   "metadata": {
    "colab": {
     "base_uri": "https://localhost:8080/",
     "height": 203
    },
    "id": "2U8vyozSRDsV",
    "outputId": "2e61500e-2c99-4322-e193-cb200bc18647"
   },
   "outputs": [
    {
     "data": {
      "text/html": [
       "<div>\n",
       "<style scoped>\n",
       "    .dataframe tbody tr th:only-of-type {\n",
       "        vertical-align: middle;\n",
       "    }\n",
       "\n",
       "    .dataframe tbody tr th {\n",
       "        vertical-align: top;\n",
       "    }\n",
       "\n",
       "    .dataframe thead th {\n",
       "        text-align: right;\n",
       "    }\n",
       "</style>\n",
       "<table border=\"1\" class=\"dataframe\">\n",
       "  <thead>\n",
       "    <tr style=\"text-align: right;\">\n",
       "      <th></th>\n",
       "      <th>id</th>\n",
       "      <th>gender</th>\n",
       "      <th>age</th>\n",
       "      <th>topic</th>\n",
       "      <th>sign</th>\n",
       "      <th>date</th>\n",
       "      <th>text</th>\n",
       "    </tr>\n",
       "  </thead>\n",
       "  <tbody>\n",
       "    <tr>\n",
       "      <th>0</th>\n",
       "      <td>2059027</td>\n",
       "      <td>male</td>\n",
       "      <td>15</td>\n",
       "      <td>Student</td>\n",
       "      <td>Leo</td>\n",
       "      <td>14,May,2004</td>\n",
       "      <td>Info has been found (+/- 100 pages,...</td>\n",
       "    </tr>\n",
       "    <tr>\n",
       "      <th>1</th>\n",
       "      <td>2059027</td>\n",
       "      <td>male</td>\n",
       "      <td>15</td>\n",
       "      <td>Student</td>\n",
       "      <td>Leo</td>\n",
       "      <td>13,May,2004</td>\n",
       "      <td>These are the team members:   Drewe...</td>\n",
       "    </tr>\n",
       "    <tr>\n",
       "      <th>2</th>\n",
       "      <td>2059027</td>\n",
       "      <td>male</td>\n",
       "      <td>15</td>\n",
       "      <td>Student</td>\n",
       "      <td>Leo</td>\n",
       "      <td>12,May,2004</td>\n",
       "      <td>In het kader van kernfusie op aarde...</td>\n",
       "    </tr>\n",
       "    <tr>\n",
       "      <th>3</th>\n",
       "      <td>2059027</td>\n",
       "      <td>male</td>\n",
       "      <td>15</td>\n",
       "      <td>Student</td>\n",
       "      <td>Leo</td>\n",
       "      <td>12,May,2004</td>\n",
       "      <td>testing!!!  testing!!!</td>\n",
       "    </tr>\n",
       "    <tr>\n",
       "      <th>4</th>\n",
       "      <td>3581210</td>\n",
       "      <td>male</td>\n",
       "      <td>33</td>\n",
       "      <td>InvestmentBanking</td>\n",
       "      <td>Aquarius</td>\n",
       "      <td>11,June,2004</td>\n",
       "      <td>Thanks to Yahoo!'s Toolbar I can ...</td>\n",
       "    </tr>\n",
       "  </tbody>\n",
       "</table>\n",
       "</div>"
      ],
      "text/plain": [
       "        id  ...                                               text\n",
       "0  2059027  ...             Info has been found (+/- 100 pages,...\n",
       "1  2059027  ...             These are the team members:   Drewe...\n",
       "2  2059027  ...             In het kader van kernfusie op aarde...\n",
       "3  2059027  ...                   testing!!!  testing!!!          \n",
       "4  3581210  ...               Thanks to Yahoo!'s Toolbar I can ...\n",
       "\n",
       "[5 rows x 7 columns]"
      ]
     },
     "execution_count": 11,
     "metadata": {
      "tags": []
     },
     "output_type": "execute_result"
    }
   ],
   "source": [
    "#Limiting the data and using fewer rows as the data size is large\n",
    "#blog_df = blog_df.head(100000)\n",
    "\n",
    "blog_df = pd.read_csv(\"/content/gdrive/MyDrive/AIML/Projects/NLP1/blogtext.csv\",nrows=100000)\n",
    "blog_df.head()"
   ]
  },
  {
   "cell_type": "code",
   "execution_count": null,
   "metadata": {
    "colab": {
     "base_uri": "https://localhost:8080/",
     "height": 203
    },
    "id": "-84Fd8oGRlb_",
    "outputId": "e909d0f7-9c08-46b8-d38a-5dbddda57f0e"
   },
   "outputs": [
    {
     "data": {
      "text/html": [
       "<div>\n",
       "<style scoped>\n",
       "    .dataframe tbody tr th:only-of-type {\n",
       "        vertical-align: middle;\n",
       "    }\n",
       "\n",
       "    .dataframe tbody tr th {\n",
       "        vertical-align: top;\n",
       "    }\n",
       "\n",
       "    .dataframe thead th {\n",
       "        text-align: right;\n",
       "    }\n",
       "</style>\n",
       "<table border=\"1\" class=\"dataframe\">\n",
       "  <thead>\n",
       "    <tr style=\"text-align: right;\">\n",
       "      <th></th>\n",
       "      <th>id</th>\n",
       "      <th>gender</th>\n",
       "      <th>age</th>\n",
       "      <th>topic</th>\n",
       "      <th>sign</th>\n",
       "      <th>date</th>\n",
       "      <th>text</th>\n",
       "    </tr>\n",
       "  </thead>\n",
       "  <tbody>\n",
       "    <tr>\n",
       "      <th>99995</th>\n",
       "      <td>1709399</td>\n",
       "      <td>male</td>\n",
       "      <td>27</td>\n",
       "      <td>Student</td>\n",
       "      <td>Virgo</td>\n",
       "      <td>18,September,2003</td>\n",
       "      <td>THE HINDU - 125 YEARS             ...</td>\n",
       "    </tr>\n",
       "    <tr>\n",
       "      <th>99996</th>\n",
       "      <td>1709399</td>\n",
       "      <td>male</td>\n",
       "      <td>27</td>\n",
       "      <td>Student</td>\n",
       "      <td>Virgo</td>\n",
       "      <td>16,September,2003</td>\n",
       "      <td>DILBERT &amp; IIT-ans                 ...</td>\n",
       "    </tr>\n",
       "    <tr>\n",
       "      <th>99997</th>\n",
       "      <td>1709399</td>\n",
       "      <td>male</td>\n",
       "      <td>27</td>\n",
       "      <td>Student</td>\n",
       "      <td>Virgo</td>\n",
       "      <td>12,September,2003</td>\n",
       "      <td>Case Study : How HP won $3 billion...</td>\n",
       "    </tr>\n",
       "    <tr>\n",
       "      <th>99998</th>\n",
       "      <td>1709399</td>\n",
       "      <td>male</td>\n",
       "      <td>27</td>\n",
       "      <td>Student</td>\n",
       "      <td>Virgo</td>\n",
       "      <td>09,September,2003</td>\n",
       "      <td>Championing Chennai               ...</td>\n",
       "    </tr>\n",
       "    <tr>\n",
       "      <th>99999</th>\n",
       "      <td>1709399</td>\n",
       "      <td>male</td>\n",
       "      <td>27</td>\n",
       "      <td>Student</td>\n",
       "      <td>Virgo</td>\n",
       "      <td>05,September,2003</td>\n",
       "      <td>WEEKEND                         It...</td>\n",
       "    </tr>\n",
       "  </tbody>\n",
       "</table>\n",
       "</div>"
      ],
      "text/plain": [
       "            id  ...                                               text\n",
       "99995  1709399  ...              THE HINDU - 125 YEARS             ...\n",
       "99996  1709399  ...              DILBERT & IIT-ans                 ...\n",
       "99997  1709399  ...              Case Study : How HP won $3 billion...\n",
       "99998  1709399  ...              Championing Chennai               ...\n",
       "99999  1709399  ...              WEEKEND                         It...\n",
       "\n",
       "[5 rows x 7 columns]"
      ]
     },
     "execution_count": 12,
     "metadata": {
      "tags": []
     },
     "output_type": "execute_result"
    }
   ],
   "source": [
    "#check if the last 5 rows of the data frame using the tail() method\n",
    "blog_df.tail()"
   ]
  },
  {
   "cell_type": "code",
   "execution_count": null,
   "metadata": {
    "colab": {
     "base_uri": "https://localhost:8080/"
    },
    "id": "jpa0_RmfRSoA",
    "outputId": "e96f93a1-48e3-4628-c71c-f36503ffd677"
   },
   "outputs": [
    {
     "name": "stdout",
     "output_type": "stream",
     "text": [
      "<class 'pandas.core.frame.DataFrame'>\n",
      "RangeIndex: 100000 entries, 0 to 99999\n",
      "Data columns (total 7 columns):\n",
      " #   Column  Non-Null Count   Dtype \n",
      "---  ------  --------------   ----- \n",
      " 0   id      100000 non-null  int64 \n",
      " 1   gender  100000 non-null  object\n",
      " 2   age     100000 non-null  int64 \n",
      " 3   topic   100000 non-null  object\n",
      " 4   sign    100000 non-null  object\n",
      " 5   date    100000 non-null  object\n",
      " 6   text    100000 non-null  object\n",
      "dtypes: int64(2), object(5)\n",
      "memory usage: 5.3+ MB\n"
     ]
    }
   ],
   "source": [
    "#get more information about data\n",
    "blog_df.info()"
   ]
  },
  {
   "cell_type": "code",
   "execution_count": null,
   "metadata": {
    "colab": {
     "base_uri": "https://localhost:8080/"
    },
    "id": "jRJBfXz2Rvtl",
    "outputId": "fac56a7d-e512-4718-e05c-7eaef8b77b1c"
   },
   "outputs": [
    {
     "data": {
      "text/plain": [
       "male      53358\n",
       "female    46642\n",
       "Name: gender, dtype: int64"
      ]
     },
     "execution_count": 16,
     "metadata": {
      "tags": []
     },
     "output_type": "execute_result"
    }
   ],
   "source": [
    "# Count Values of column gender\n",
    "blog_df.gender.value_counts()"
   ]
  },
  {
   "cell_type": "code",
   "execution_count": null,
   "metadata": {
    "colab": {
     "base_uri": "https://localhost:8080/",
     "height": 296
    },
    "id": "ptkZtTvDSnij",
    "outputId": "82270c10-8b2f-4ef6-a593-56619c041839"
   },
   "outputs": [
    {
     "data": {
      "text/plain": [
       "<matplotlib.axes._subplots.AxesSubplot at 0x7f6cd24c0390>"
      ]
     },
     "execution_count": 18,
     "metadata": {
      "tags": []
     },
     "output_type": "execute_result"
    },
    {
     "data": {
      "image/png": "[encoded data removed]",
      "text/plain": [
       "<Figure size 432x288 with 1 Axes>"
      ]
     },
     "metadata": {
      "needs_background": "light",
      "tags": []
     },
     "output_type": "display_data"
    }
   ],
   "source": [
    "sns.countplot(x='gender',data=blog_df)"
   ]
  },
  {
   "cell_type": "code",
   "execution_count": null,
   "metadata": {
    "colab": {
     "base_uri": "https://localhost:8080/"
    },
    "id": "O6Xnvd58SZ69",
    "outputId": "7cec84ea-551a-426f-d0e9-21ece29fb0bc"
   },
   "outputs": [
    {
     "data": {
      "text/plain": [
       "id        0\n",
       "gender    0\n",
       "age       0\n",
       "topic     0\n",
       "sign      0\n",
       "date      0\n",
       "text      0\n",
       "dtype: int64"
      ]
     },
     "execution_count": 17,
     "metadata": {
      "tags": []
     },
     "output_type": "execute_result"
    }
   ],
   "source": [
    "#checking null values \n",
    "blog_df.isna().sum()"
   ]
  },
  {
   "cell_type": "markdown",
   "metadata": {
    "id": "uzyQR39CSzpe"
   },
   "source": [
    "**2 Perform data pre-processing on the data:**\n",
    "*  Remove unwanted characters\n",
    "*   Remove unwanted spaces\n",
    "\n",
    "*   Remove stopwords\n",
    "*   Convert text to lowercase\n",
    "\n",
    "\n"
   ]
  },
  {
   "cell_type": "code",
   "execution_count": null,
   "metadata": {
    "id": "Uw_BbYqZSkmG"
   },
   "outputs": [],
   "source": [
    "# remove unwanted chars other than alphanumeric\n",
    "pattern = \"[^\\w ]\"\n",
    "blog_df.text = blog_df.text.apply(lambda s : re.sub(pattern,\"\",s))"
   ]
  },
  {
   "cell_type": "code",
   "execution_count": null,
   "metadata": {
    "id": "8jFViq-ZTc1X"
   },
   "outputs": [],
   "source": [
    "#remove unwanted spaces\n",
    "blog_df.text = blog_df.text.apply(lambda s: s.strip())"
   ]
  },
  {
   "cell_type": "code",
   "execution_count": null,
   "metadata": {
    "colab": {
     "base_uri": "https://localhost:8080/",
     "height": 178
    },
    "id": "QMh8OYEWTkPt",
    "outputId": "9570a75e-e707-489b-fc6b-e1f2778b49ec"
   },
   "outputs": [
    {
     "ename": "AttributeError",
     "evalue": "ignored",
     "output_type": "error",
     "traceback": [
      "\u001b[0;31m---------------------------------------------------------------------------\u001b[0m",
      "\u001b[0;31mAttributeError\u001b[0m                            Traceback (most recent call last)",
      "\u001b[0;32m<ipython-input-34-90d435297d4a>\u001b[0m in \u001b[0;36m<module>\u001b[0;34m()\u001b[0m\n\u001b[1;32m      1\u001b[0m \u001b[0;31m#remove stopwords\u001b[0m\u001b[0;34m\u001b[0m\u001b[0;34m\u001b[0m\u001b[0;34m\u001b[0m\u001b[0m\n\u001b[0;32m----> 2\u001b[0;31m \u001b[0mstopwords\u001b[0m\u001b[0;34m=\u001b[0m\u001b[0mset\u001b[0m\u001b[0;34m(\u001b[0m\u001b[0mstopwords\u001b[0m\u001b[0;34m.\u001b[0m\u001b[0mwords\u001b[0m\u001b[0;34m(\u001b[0m\u001b[0;34m'english'\u001b[0m\u001b[0;34m)\u001b[0m\u001b[0;34m)\u001b[0m\u001b[0;34m\u001b[0m\u001b[0;34m\u001b[0m\u001b[0m\n\u001b[0m",
      "\u001b[0;31mAttributeError\u001b[0m: 'set' object has no attribute 'words'"
     ]
    }
   ],
   "source": [
    "#remove stopwords\n",
    "stopwords=set(stopwords.words('english'))"
   ]
  },
  {
   "cell_type": "code",
   "execution_count": null,
   "metadata": {
    "id": "Vta_SDf3T7r3"
   },
   "outputs": [],
   "source": [
    "blog_df.text = blog_df.text.apply(lambda t: ' '.join([words for words in t.split() if words not in stopwords]) )"
   ]
  },
  {
   "cell_type": "code",
   "execution_count": null,
   "metadata": {
    "id": "atJuhCLMTXfQ"
   },
   "outputs": [],
   "source": [
    "#covert text to lower\n",
    "blog_df.text = blog_df.text.apply(lambda s: s.lower())"
   ]
  },
  {
   "cell_type": "code",
   "execution_count": null,
   "metadata": {
    "colab": {
     "base_uri": "https://localhost:8080/",
     "height": 203
    },
    "id": "ZRHOZIaBUT8-",
    "outputId": "c5c1b997-2878-4ed7-d645-bf1b416a71e6"
   },
   "outputs": [
    {
     "data": {
      "text/html": [
       "<div>\n",
       "<style scoped>\n",
       "    .dataframe tbody tr th:only-of-type {\n",
       "        vertical-align: middle;\n",
       "    }\n",
       "\n",
       "    .dataframe tbody tr th {\n",
       "        vertical-align: top;\n",
       "    }\n",
       "\n",
       "    .dataframe thead th {\n",
       "        text-align: right;\n",
       "    }\n",
       "</style>\n",
       "<table border=\"1\" class=\"dataframe\">\n",
       "  <thead>\n",
       "    <tr style=\"text-align: right;\">\n",
       "      <th></th>\n",
       "      <th>id</th>\n",
       "      <th>gender</th>\n",
       "      <th>age</th>\n",
       "      <th>topic</th>\n",
       "      <th>sign</th>\n",
       "      <th>date</th>\n",
       "      <th>text</th>\n",
       "    </tr>\n",
       "  </thead>\n",
       "  <tbody>\n",
       "    <tr>\n",
       "      <th>0</th>\n",
       "      <td>2059027</td>\n",
       "      <td>male</td>\n",
       "      <td>15</td>\n",
       "      <td>Student</td>\n",
       "      <td>Leo</td>\n",
       "      <td>14,May,2004</td>\n",
       "      <td>info found 100 pages 45 mb pdf files wait unti...</td>\n",
       "    </tr>\n",
       "    <tr>\n",
       "      <th>1</th>\n",
       "      <td>2059027</td>\n",
       "      <td>male</td>\n",
       "      <td>15</td>\n",
       "      <td>Student</td>\n",
       "      <td>Leo</td>\n",
       "      <td>13,May,2004</td>\n",
       "      <td>team members drewes van der laag urllink mail ...</td>\n",
       "    </tr>\n",
       "    <tr>\n",
       "      <th>2</th>\n",
       "      <td>2059027</td>\n",
       "      <td>male</td>\n",
       "      <td>15</td>\n",
       "      <td>Student</td>\n",
       "      <td>Leo</td>\n",
       "      <td>12,May,2004</td>\n",
       "      <td>het kader van kernfusie op aarde maak je eigen...</td>\n",
       "    </tr>\n",
       "    <tr>\n",
       "      <th>3</th>\n",
       "      <td>2059027</td>\n",
       "      <td>male</td>\n",
       "      <td>15</td>\n",
       "      <td>Student</td>\n",
       "      <td>Leo</td>\n",
       "      <td>12,May,2004</td>\n",
       "      <td>testing testing</td>\n",
       "    </tr>\n",
       "    <tr>\n",
       "      <th>4</th>\n",
       "      <td>3581210</td>\n",
       "      <td>male</td>\n",
       "      <td>33</td>\n",
       "      <td>InvestmentBanking</td>\n",
       "      <td>Aquarius</td>\n",
       "      <td>11,June,2004</td>\n",
       "      <td>thanks yahoos toolbar capture urls popupswhich...</td>\n",
       "    </tr>\n",
       "  </tbody>\n",
       "</table>\n",
       "</div>"
      ],
      "text/plain": [
       "        id  ...                                               text\n",
       "0  2059027  ...  info found 100 pages 45 mb pdf files wait unti...\n",
       "1  2059027  ...  team members drewes van der laag urllink mail ...\n",
       "2  2059027  ...  het kader van kernfusie op aarde maak je eigen...\n",
       "3  2059027  ...                                    testing testing\n",
       "4  3581210  ...  thanks yahoos toolbar capture urls popupswhich...\n",
       "\n",
       "[5 rows x 7 columns]"
      ]
     },
     "execution_count": 35,
     "metadata": {
      "tags": []
     },
     "output_type": "execute_result"
    }
   ],
   "source": [
    "blog_df.head()"
   ]
  },
  {
   "cell_type": "code",
   "execution_count": null,
   "metadata": {
    "id": "KnAPPh2DUaah"
   },
   "outputs": [],
   "source": [
    "# drop id and date columns\n",
    "blog_df.drop(labels=['id','date'], axis=1,inplace=True)"
   ]
  },
  {
   "cell_type": "markdown",
   "metadata": {
    "id": "JbwKsXDVU0ku"
   },
   "source": [
    "\n",
    "\n",
    "*   Target/label merger and transformation\n",
    "\n"
   ]
  },
  {
   "cell_type": "code",
   "execution_count": null,
   "metadata": {
    "id": "cOwfEtawUl7l"
   },
   "outputs": [],
   "source": [
    "blog_df['labels'] = blog_df.apply(lambda col : [col['gender'],col['age'],col['topic'],col['sign']], axis=1)"
   ]
  },
  {
   "cell_type": "code",
   "execution_count": null,
   "metadata": {
    "id": "amQm6tjLUr-O"
   },
   "outputs": [],
   "source": [
    "#drop  gender,age,topic & sign as they are already merged to labels column\n",
    "blog_df.drop(columns=['gender','age','topic','sign'], axis=1, inplace=True)"
   ]
  },
  {
   "cell_type": "code",
   "execution_count": null,
   "metadata": {
    "colab": {
     "base_uri": "https://localhost:8080/",
     "height": 203
    },
    "id": "2ILIa5lpUx52",
    "outputId": "d9d07758-24bb-4eab-f92f-1b86e7131df3"
   },
   "outputs": [
    {
     "data": {
      "text/html": [
       "<div>\n",
       "<style scoped>\n",
       "    .dataframe tbody tr th:only-of-type {\n",
       "        vertical-align: middle;\n",
       "    }\n",
       "\n",
       "    .dataframe tbody tr th {\n",
       "        vertical-align: top;\n",
       "    }\n",
       "\n",
       "    .dataframe thead th {\n",
       "        text-align: right;\n",
       "    }\n",
       "</style>\n",
       "<table border=\"1\" class=\"dataframe\">\n",
       "  <thead>\n",
       "    <tr style=\"text-align: right;\">\n",
       "      <th></th>\n",
       "      <th>text</th>\n",
       "      <th>labels</th>\n",
       "    </tr>\n",
       "  </thead>\n",
       "  <tbody>\n",
       "    <tr>\n",
       "      <th>0</th>\n",
       "      <td>info found 100 pages 45 mb pdf files wait unti...</td>\n",
       "      <td>[male, 15, Student, Leo]</td>\n",
       "    </tr>\n",
       "    <tr>\n",
       "      <th>1</th>\n",
       "      <td>team members drewes van der laag urllink mail ...</td>\n",
       "      <td>[male, 15, Student, Leo]</td>\n",
       "    </tr>\n",
       "    <tr>\n",
       "      <th>2</th>\n",
       "      <td>het kader van kernfusie op aarde maak je eigen...</td>\n",
       "      <td>[male, 15, Student, Leo]</td>\n",
       "    </tr>\n",
       "    <tr>\n",
       "      <th>3</th>\n",
       "      <td>testing testing</td>\n",
       "      <td>[male, 15, Student, Leo]</td>\n",
       "    </tr>\n",
       "    <tr>\n",
       "      <th>4</th>\n",
       "      <td>thanks yahoos toolbar capture urls popupswhich...</td>\n",
       "      <td>[male, 33, InvestmentBanking, Aquarius]</td>\n",
       "    </tr>\n",
       "  </tbody>\n",
       "</table>\n",
       "</div>"
      ],
      "text/plain": [
       "                                                text                                   labels\n",
       "0  info found 100 pages 45 mb pdf files wait unti...                 [male, 15, Student, Leo]\n",
       "1  team members drewes van der laag urllink mail ...                 [male, 15, Student, Leo]\n",
       "2  het kader van kernfusie op aarde maak je eigen...                 [male, 15, Student, Leo]\n",
       "3                                    testing testing                 [male, 15, Student, Leo]\n",
       "4  thanks yahoos toolbar capture urls popupswhich...  [male, 33, InvestmentBanking, Aquarius]"
      ]
     },
     "execution_count": 40,
     "metadata": {
      "tags": []
     },
     "output_type": "execute_result"
    }
   ],
   "source": [
    "blog_df.head()"
   ]
  },
  {
   "cell_type": "markdown",
   "metadata": {
    "id": "D8GxvGxcU_zI"
   },
   "source": [
    "\n",
    "\n",
    "*  Train and test split\n",
    "\n",
    "\n"
   ]
  },
  {
   "cell_type": "code",
   "execution_count": null,
   "metadata": {
    "id": "sD2KoOAxU6ZH"
   },
   "outputs": [],
   "source": [
    "X= blog_df.text\n",
    "y = blog_df.labels"
   ]
  },
  {
   "cell_type": "code",
   "execution_count": null,
   "metadata": {
    "id": "EwBBz-fEVGHA"
   },
   "outputs": [],
   "source": [
    "# split X and y into training and testing sets\n",
    "X_train, X_test, y_train, y_test = train_test_split(X,y, random_state=2,test_size = 0.2)"
   ]
  },
  {
   "cell_type": "code",
   "execution_count": null,
   "metadata": {
    "colab": {
     "base_uri": "https://localhost:8080/"
    },
    "id": "0bHueYv4VJUQ",
    "outputId": "bedad80d-0cb7-4c1d-d0c6-baead10eeae4"
   },
   "outputs": [
    {
     "name": "stdout",
     "output_type": "stream",
     "text": [
      "(80000,)\n",
      "(80000,)\n"
     ]
    }
   ],
   "source": [
    "print(X_train.shape)\n",
    "print(y_train.shape)"
   ]
  },
  {
   "cell_type": "code",
   "execution_count": null,
   "metadata": {
    "colab": {
     "base_uri": "https://localhost:8080/"
    },
    "id": "YGqPBS6yVLv5",
    "outputId": "e6c0f045-eb28-4be5-ea9d-48eb5c41c066"
   },
   "outputs": [
    {
     "name": "stdout",
     "output_type": "stream",
     "text": [
      "(20000,)\n",
      "(20000,)\n"
     ]
    }
   ],
   "source": [
    "print(X_test.shape)\n",
    "print(y_test.shape)"
   ]
  },
  {
   "cell_type": "code",
   "execution_count": null,
   "metadata": {
    "colab": {
     "base_uri": "https://localhost:8080/"
    },
    "id": "UmY-XbJ-VQOD",
    "outputId": "69eea3e0-c154-492a-e1c9-62f583581808"
   },
   "outputs": [
    {
     "data": {
      "text/plain": [
       "6448                      bird buries head mashed potatoes\n",
       "50680    ok seriously ruined day like mad right wouldnt...\n",
       "814      astro vs braves got back minute maid stadium d...\n",
       "20354    greetings welcome first ever blog concept behi...\n",
       "49224    walks door room always brightens perfect figur...\n",
       "                               ...                        \n",
       "47661    hey cool jo problem understandable sounds lots...\n",
       "56256    last night went see new harry potter movie hon...\n",
       "92555    urllink instant messages come bearing malice i...\n",
       "36328    srajan gamers sections class 8th entered compu...\n",
       "73345    monqiue got back together wasnt quite dramatic...\n",
       "Name: text, Length: 20000, dtype: object"
      ]
     },
     "execution_count": 45,
     "metadata": {
      "tags": []
     },
     "output_type": "execute_result"
    }
   ],
   "source": [
    "X_test"
   ]
  },
  {
   "cell_type": "markdown",
   "metadata": {
    "id": "CfkX61jcVXZH"
   },
   "source": [
    "\n",
    "\n",
    "*   Vectorisation, etc.\n",
    "\n",
    "\n"
   ]
  },
  {
   "cell_type": "code",
   "execution_count": null,
   "metadata": {
    "id": "9cZRG_GWVUFm"
   },
   "outputs": [],
   "source": [
    "cvect = CountVectorizer(ngram_range=(1,2))"
   ]
  },
  {
   "cell_type": "code",
   "execution_count": null,
   "metadata": {
    "colab": {
     "base_uri": "https://localhost:8080/"
    },
    "id": "X2gbg0pdVc3G",
    "outputId": "437a83d5-b338-4278-bdb4-b4a69b04ce8b"
   },
   "outputs": [
    {
     "data": {
      "text/plain": [
       "4517076"
      ]
     },
     "execution_count": 47,
     "metadata": {
      "tags": []
     },
     "output_type": "execute_result"
    }
   ],
   "source": [
    "#Feed SMS data to CountVectorizer\n",
    "cvect.fit(X_train)\n",
    "\n",
    "#Check the vocablury size\n",
    "len(cvect.vocabulary_)"
   ]
  },
  {
   "cell_type": "code",
   "execution_count": null,
   "metadata": {
    "colab": {
     "base_uri": "https://localhost:8080/"
    },
    "id": "pBREw_ZbV1O6",
    "outputId": "245e7dc8-ec2f-463b-ed0d-e518e8ff596d"
   },
   "outputs": [
    {
     "data": {
      "text/plain": [
       "['00',\n",
       " '00 damarcus',\n",
       " '00 damn',\n",
       " '00 doesnt',\n",
       " '00 dont',\n",
       " '00 draw',\n",
       " '00 games',\n",
       " '00 laughed',\n",
       " '00 lil',\n",
       " '00 morning',\n",
       " '00 really',\n",
       " '00 silver',\n",
       " '00 sometimes',\n",
       " '00 soooooo',\n",
       " '00 sq',\n",
       " '00 tcr1',\n",
       " '00 tie',\n",
       " '00 uppercase_75_100',\n",
       " '00 watch',\n",
       " '00 well',\n",
       " '000',\n",
       " '000 address',\n",
       " '000 available',\n",
       " '000 best',\n",
       " '000 calories',\n",
       " '000 cheaper',\n",
       " '000 comptes',\n",
       " '000 could',\n",
       " '000 duration',\n",
       " '000 et',\n",
       " '000 first',\n",
       " '000 ft',\n",
       " '000 fulltime',\n",
       " '000 good',\n",
       " '000 heh',\n",
       " '000 leaving',\n",
       " '000 nothing',\n",
       " '000 odd',\n",
       " '000 people',\n",
       " '000 pounds',\n",
       " '000 rupees',\n",
       " '000 seats',\n",
       " '000 sec',\n",
       " '000 seems',\n",
       " '000 straight',\n",
       " '000 subject',\n",
       " '000 thats',\n",
       " '000 years',\n",
       " '000 yen',\n",
       " '0000',\n",
       " '0000 arent',\n",
       " '0000 blinking',\n",
       " '0000 hopefully',\n",
       " '0000 hrs',\n",
       " '0000 new',\n",
       " '0000 showed',\n",
       " '0000 still',\n",
       " '0000 subject',\n",
       " '000000',\n",
       " '000000 flickrframe',\n",
       " '000000 fontfamily',\n",
       " '000000 zero',\n",
       " '000000000000000000000000167',\n",
       " '000000000000000000000000167 grams',\n",
       " '000000000000000000000section',\n",
       " '000000000000000000000section c09er',\n",
       " '00000000345',\n",
       " '00000000345 secs',\n",
       " '00000001',\n",
       " '00000001 second',\n",
       " '0000001',\n",
       " '0000001 zbaras',\n",
       " '000000flickryourcomment',\n",
       " '000000flickryourcomment flickrframe',\n",
       " '000000this',\n",
       " '000000this certifies',\n",
       " '000001',\n",
       " '000001 maybe',\n",
       " '00000800',\n",
       " '00000800 thats',\n",
       " '00001',\n",
       " '00001 kilowatt',\n",
       " '00001 point',\n",
       " '0001',\n",
       " '0001 chances',\n",
       " '0001 nice',\n",
       " '00011000101',\n",
       " '00011000101 benji',\n",
       " '000264',\n",
       " '000264 31058',\n",
       " '0002hrs',\n",
       " '0002hrs last',\n",
       " '0005',\n",
       " '0005 seconds',\n",
       " '000nbsp',\n",
       " '000nbsp list',\n",
       " '000oooh',\n",
       " '000oooh yes',\n",
       " '001',\n",
       " '001 first',\n",
       " '001 full',\n",
       " '001 javaioioexception',\n",
       " '001 teacher',\n",
       " '001 time',\n",
       " '001 urllink',\n",
       " '0010',\n",
       " '0010 fell',\n",
       " '00101110010101101101001110100100101010001',\n",
       " '00101110010101101101001110100100101010001 exitexe',\n",
       " '00145',\n",
       " '00145 percent',\n",
       " '0015',\n",
       " '0015 15',\n",
       " '001875',\n",
       " '001875 plugging',\n",
       " '002',\n",
       " '002 44th',\n",
       " '002 first',\n",
       " '002 like',\n",
       " '002 middle',\n",
       " '002 sex',\n",
       " '002 thank',\n",
       " '002 urllink',\n",
       " '002020',\n",
       " '002020 gmt',\n",
       " '0020hrs',\n",
       " '0020hrs nowhaasyupxim',\n",
       " '0020hrs woke',\n",
       " '0022',\n",
       " '0022 right',\n",
       " '003',\n",
       " '003 age',\n",
       " '003 im',\n",
       " '003 last',\n",
       " '003 urllink',\n",
       " '0030',\n",
       " '0030 thats',\n",
       " '003200',\n",
       " '003200 cmaj7',\n",
       " '003247',\n",
       " '003247 2004',\n",
       " '004',\n",
       " '004 bday',\n",
       " '004 interest',\n",
       " '004 nicknames',\n",
       " '004 urllink',\n",
       " '0041',\n",
       " '0045',\n",
       " '0045 email',\n",
       " '0045 havent',\n",
       " '0045 thats',\n",
       " '005',\n",
       " '005 euroes',\n",
       " '005 eurosnbsp',\n",
       " '005 gender',\n",
       " '005 height',\n",
       " '005 mph',\n",
       " '005 particular',\n",
       " '005 per',\n",
       " '005 pretty',\n",
       " '005 urllink',\n",
       " '0053',\n",
       " '0053 considering',\n",
       " '006',\n",
       " '006 age',\n",
       " '006 birthday',\n",
       " '006 hair',\n",
       " '006 urllink',\n",
       " '0060521996',\n",
       " '0064',\n",
       " '0064 identified',\n",
       " '0064 shall',\n",
       " '0067',\n",
       " '0067 would',\n",
       " '007',\n",
       " '007 actor',\n",
       " '007 actually',\n",
       " '007 also',\n",
       " '007 arent',\n",
       " '007 birthday',\n",
       " '007 bit',\n",
       " '007 dance',\n",
       " '007 doesnt',\n",
       " '007 dun',\n",
       " '007 eye',\n",
       " '007 financial',\n",
       " '007 game',\n",
       " '007 gets',\n",
       " '007 go',\n",
       " '007 going',\n",
       " '007 height',\n",
       " '007 hope',\n",
       " '007 internet',\n",
       " '007 jennifer',\n",
       " '007 jersey',\n",
       " '007 like',\n",
       " '007 nbsp',\n",
       " '007 needs',\n",
       " '007 never',\n",
       " '007 nightfire',\n",
       " '007 pictures',\n",
       " '007 respect',\n",
       " '007 said',\n",
       " '007 see',\n",
       " '007 serious',\n",
       " '007 sharing',\n",
       " '007 since',\n",
       " '007 start',\n",
       " '007 tell',\n",
       " '007 thing',\n",
       " '007 today',\n",
       " '007 tomorrow',\n",
       " '007 undocumentables',\n",
       " '007 well',\n",
       " '007 would',\n",
       " '007nbsp',\n",
       " '007nbsp agree',\n",
       " '007well',\n",
       " '007well really',\n",
       " '008',\n",
       " '008 hair',\n",
       " '008 height',\n",
       " '008 pt',\n",
       " '008 race',\n",
       " '009',\n",
       " '009 eye',\n",
       " '009 hair',\n",
       " '0097',\n",
       " '0097 compliment',\n",
       " '00h',\n",
       " '00h done',\n",
       " '00h later',\n",
       " '00note__',\n",
       " '00note__ notes',\n",
       " '00s',\n",
       " '00s abc',\n",
       " '00s one',\n",
       " '00s remeber',\n",
       " '00s thats',\n",
       " '00s theres',\n",
       " '00t',\n",
       " '00t damn',\n",
       " '01',\n",
       " '01 02',\n",
       " '01 101102',\n",
       " '01 11',\n",
       " '01 115',\n",
       " '01 1211',\n",
       " '01 191941',\n",
       " '01 194018',\n",
       " '01 194315',\n",
       " '01 195117',\n",
       " '01 195237',\n",
       " '01 195651',\n",
       " '01 195656',\n",
       " '01 1964',\n",
       " '01 1972',\n",
       " '01 2003',\n",
       " '01 2004',\n",
       " '01 203',\n",
       " '01 309',\n",
       " '01 357',\n",
       " '01 across',\n",
       " '01 best',\n",
       " '01 bluetooth',\n",
       " '01 bright',\n",
       " '01 broccoli',\n",
       " '01 butterfly',\n",
       " '01 camaro',\n",
       " '01 cell',\n",
       " '01 chance',\n",
       " '01 charge',\n",
       " '01 clearer',\n",
       " '01 close',\n",
       " '01 colorful',\n",
       " '01 come',\n",
       " '01 cows',\n",
       " '01 disrespectful',\n",
       " '01 four',\n",
       " '01 freedom',\n",
       " '01 friends',\n",
       " '01 goofy',\n",
       " '01 gsm',\n",
       " '01 hammy',\n",
       " '01 hehehe',\n",
       " '01 issues',\n",
       " '01 jewel',\n",
       " '01 keyboard',\n",
       " '01 know',\n",
       " '01 known',\n",
       " '01 leen',\n",
       " '01 lil',\n",
       " '01 means',\n",
       " '01 miles',\n",
       " '01 minds',\n",
       " '01 mp3',\n",
       " '01 nope',\n",
       " '01 pant',\n",
       " '01 pants',\n",
       " '01 percent',\n",
       " '01 person',\n",
       " '01 project',\n",
       " '01 role',\n",
       " '01 seconds',\n",
       " '01 serena',\n",
       " '01 still',\n",
       " '01 story',\n",
       " '01 strike',\n",
       " '01 sundrop',\n",
       " '01 televive',\n",
       " '01 thecurehalo',\n",
       " '01 time',\n",
       " '01 toxic',\n",
       " '01 triggered',\n",
       " '01 underworld',\n",
       " '01 unfortunately',\n",
       " '01 victoria',\n",
       " '01 waiting',\n",
       " '01 watch',\n",
       " '01 whats',\n",
       " '01 我的地盤',\n",
       " '010',\n",
       " '010 10',\n",
       " '010 answer',\n",
       " '010 big',\n",
       " '010 cleveland',\n",
       " '010 custom',\n",
       " '010 customer',\n",
       " '010 eye',\n",
       " '010 flashing',\n",
       " '010 hyundai',\n",
       " '010 national',\n",
       " '010 never',\n",
       " '010 siblings',\n",
       " '010 wear',\n",
       " '0100',\n",
       " '0100 banana',\n",
       " '0100 sleep',\n",
       " '0100 time',\n",
       " '0100 wokeup',\n",
       " '010000oh',\n",
       " '010000oh one',\n",
       " '0100010001101111011100100110101101111000',\n",
       " '0100hrunexpectedlymy',\n",
       " '0100hrunexpectedlymy papa',\n",
       " '0100kmh',\n",
       " '0100kmh 44',\n",
       " '010101',\n",
       " '010101 last',\n",
       " '010101 personal',\n",
       " '01012346',\n",
       " '01012346 course',\n",
       " '0102',\n",
       " '0102 north',\n",
       " '0102 right',\n",
       " '0102 season',\n",
       " '010203',\n",
       " '010203 hehehe',\n",
       " '010504',\n",
       " '010504 may',\n",
       " '01081997',\n",
       " '01081997 01082004its',\n",
       " '01082004',\n",
       " '01082004 apples',\n",
       " '01082004 celebrate',\n",
       " '01082004its',\n",
       " '01082004its 7yrs',\n",
       " '010902',\n",
       " '010902 work',\n",
       " '010haa',\n",
       " '010haa haa',\n",
       " '011',\n",
       " '011 braces',\n",
       " '011 functions',\n",
       " '011 nbsp',\n",
       " '011 points',\n",
       " '011 race',\n",
       " '011 uich',\n",
       " '011 zodiac',\n",
       " '011110am',\n",
       " '011110am mobynathan',\n",
       " '011117am',\n",
       " '011117am mobynathan',\n",
       " '011136am',\n",
       " '011136am jaggonmaster',\n",
       " '011390669882122',\n",
       " '011390669882122 message',\n",
       " '01142004',\n",
       " '01142004 country',\n",
       " '011607',\n",
       " '011607 think',\n",
       " '011615am',\n",
       " '011615am mobynathan',\n",
       " '011646am',\n",
       " '011646am madsh00ter',\n",
       " '011723am',\n",
       " '011723am madsh00ter',\n",
       " '011732am',\n",
       " '011732am jaggonmaster',\n",
       " '011732am mobynathan',\n",
       " '011843am',\n",
       " '011843am madsh00ter',\n",
       " '01187',\n",
       " '01187 _______________________',\n",
       " '011932am',\n",
       " '011932am madsh00ter',\n",
       " '011936am',\n",
       " '011936am madsh00ter',\n",
       " '011937am',\n",
       " '011937am mobynathan',\n",
       " '011939am',\n",
       " '011939am madsh00ter',\n",
       " '011940am',\n",
       " '011940am mobynathan',\n",
       " '012',\n",
       " '012 glasses',\n",
       " '012 hair',\n",
       " '012 many',\n",
       " '01202004',\n",
       " '01202004 larissa',\n",
       " '012022',\n",
       " '012022 2004',\n",
       " '01212004',\n",
       " '01212004 therese',\n",
       " '0125',\n",
       " '0125 pm',\n",
       " '01252004',\n",
       " '01252004 english',\n",
       " '012604',\n",
       " '012604 would',\n",
       " '01299',\n",
       " '01299 402114',\n",
       " '01299 403816',\n",
       " '012xxx',\n",
       " '012xxx xxxx',\n",
       " '013',\n",
       " '013 born',\n",
       " '013 dodid',\n",
       " '013 give',\n",
       " '013 inch',\n",
       " '013 nationality',\n",
       " '0130',\n",
       " '0130 morningnbsp',\n",
       " '0130 watch',\n",
       " '0130 watched',\n",
       " '013227',\n",
       " '013227 gmt',\n",
       " '013528',\n",
       " '013528 2004',\n",
       " '013616',\n",
       " '013616 2004',\n",
       " '013626',\n",
       " '013626 2004',\n",
       " '013936',\n",
       " '013936 2004',\n",
       " '013944',\n",
       " '013944 2004',\n",
       " '014',\n",
       " '014 current',\n",
       " '014 hair',\n",
       " '014 piercings',\n",
       " '0142662566',\n",
       " '0142662566 number',\n",
       " '014357am',\n",
       " '014357am madsh00ter',\n",
       " '014730',\n",
       " '014730 2004',\n",
       " '014757',\n",
       " '014757 2004',\n",
       " '015',\n",
       " '015 born',\n",
       " '015 course',\n",
       " '015 gallon',\n",
       " '015 percent',\n",
       " '015 piercings',\n",
       " '015 trade',\n",
       " '015 zodiac',\n",
       " '01562',\n",
       " '01562 66270',\n",
       " '01562 67148',\n",
       " '01562 820041',\n",
       " '01562nbspnbspnbspnbspnbspnbspnbspnbspnbspnbspnbspnbspnbspnbsp',\n",
       " '01562nbspnbspnbspnbspnbspnbspnbspnbspnbspnbspnbspnbspnbspnbsp pop',\n",
       " '016',\n",
       " '016 current',\n",
       " '016 many',\n",
       " '016 per',\n",
       " '016 tattoos',\n",
       " '017',\n",
       " '017 entire',\n",
       " '017 hour',\n",
       " '017 laungage',\n",
       " '017 tattoos',\n",
       " '017 zodiac',\n",
       " '01752',\n",
       " '01752 224840',\n",
       " '018',\n",
       " '018 bad',\n",
       " '018 felipe',\n",
       " '018 many',\n",
       " '018 todays',\n",
       " '0185nbspnbspnbspnbspnbspnbspnbspnbspnbspnbspnbspnbspnbspnbspnbspnbspnbspnbspnbspnbspnbspnbspnbspnbspnbspnbspnbspnbspnbspnbspnbspnbspnbspnbspnbspnbspnbspnbspnbspnbspnbspnbspnbspnbspnbspnbspnbspnbspnbspnbspnbspnbspnbspnbspnbspnbspnbspnbspnbspnbspnbspnbsp',\n",
       " '0185nbspnbspnbspnbspnbspnbspnbspnbspnbspnbspnbspnbspnbspnbspnbspnbspnbspnbspnbspnbspnbspnbspnbspnbspnbspnbspnbspnbspnbspnbspnbspnbspnbspnbspnbspnbspnbspnbspnbspnbspnbspnbspnbspnbspnbspnbspnbspnbspnbspnbspnbspnbspnbspnbspnbspnbspnbspnbspnbspnbspnbspnbsp margaret',\n",
       " '019',\n",
       " '019 nationality',\n",
       " '019 piercing',\n",
       " '019 time',\n",
       " '01birdjpg',\n",
       " '01birdjpg urllink',\n",
       " '01jill',\n",
       " '01jill sims',\n",
       " '01july04',\n",
       " '01july04 ripped',\n",
       " '01not',\n",
       " '01not bad',\n",
       " '01nov',\n",
       " '01nov 30',\n",
       " '01s',\n",
       " '01s responsibilities',\n",
       " '01sep',\n",
       " '01sep subtracted',\n",
       " '01sep04',\n",
       " '01sep04 remember',\n",
       " '01when',\n",
       " '01when younger',\n",
       " '01x',\n",
       " '01x series',\n",
       " '01x urllink',\n",
       " '02',\n",
       " '02 03',\n",
       " '02 1964',\n",
       " '02 2002',\n",
       " '02 2004',\n",
       " '02 221430',\n",
       " '02 222425',\n",
       " '02 222803',\n",
       " '02 222812',\n",
       " '02 233531',\n",
       " '02 40',\n",
       " '02 86',\n",
       " '02 9550',\n",
       " '02 added',\n",
       " '02 ali',\n",
       " '02 annoying',\n",
       " '02 argue',\n",
       " '02 ashley',\n",
       " '02 august',\n",
       " '02 beyonce',\n",
       " '02 blackwhite',\n",
       " '02 cents',\n",
       " '02 changes',\n",
       " '02 character',\n",
       " '02 cheerwine',\n",
       " '02 could',\n",
       " '02 darryl',\n",
       " '02 day',\n",
       " '02 deadbeat',\n",
       " '02 dont',\n",
       " '02 dork',\n",
       " '02 drop',\n",
       " '02 dumb',\n",
       " '02 encore',\n",
       " '02 faced',\n",
       " '02 fear',\n",
       " '02 florida',\n",
       " '02 franzferdinandtakemeout',\n",
       " '02 friends',\n",
       " '02 geography',\n",
       " '02 group',\n",
       " '02 hits',\n",
       " '02 hope',\n",
       " '02 im',\n",
       " '02 iraq',\n",
       " '02 keyboard',\n",
       " '02 kg',\n",
       " '02 lott',\n",
       " '02 lucky',\n",
       " '02 magic',\n",
       " '02 mama',\n",
       " '02 may',\n",
       " '02 maybe',\n",
       " '02 meet',\n",
       " '02 messages',\n",
       " '02 miles',\n",
       " '02 movies',\n",
       " '02 nbspnbspnbspnbspnbspnbspnbspnbsp',\n",
       " '02 nice',\n",
       " '02 nissan',\n",
       " '02 one',\n",
       " '02 original',\n",
       " '02 personal',\n",
       " '02 pet',\n",
       " '02 pics',\n",
       " '02 plenty',\n",
       " '02 points',\n",
       " '02 rascal',\n",
       " '02 released',\n",
       " '02 republicans',\n",
       " '02 right',\n",
       " '02 rower',\n",
       " '02 season',\n",
       " '02 seemed',\n",
       " '02 shorts',\n",
       " '02 show',\n",
       " '02 simpsons',\n",
       " '02 statement',\n",
       " '02 still',\n",
       " '02 think',\n",
       " '02 today',\n",
       " '02 trb',\n",
       " '02 trips',\n",
       " '02 twister',\n",
       " '02 weakest',\n",
       " '02 weve',\n",
       " '02 wilding',\n",
       " '02 win',\n",
       " '02 windup',\n",
       " '02 七里香',\n",
       " '020',\n",
       " '020 bad',\n",
       " '020 could',\n",
       " '020 even',\n",
       " '020 piercing',\n",
       " '020 still',\n",
       " '0200',\n",
       " '0200 finally',\n",
       " '0200 hrs',\n",
       " '0200 pm',\n",
       " '0200 watching',\n",
       " '0200 went',\n",
       " '020031',\n",
       " '020031 pm',\n",
       " '0200hr',\n",
       " '0200hr 22',\n",
       " '0200hrtido',\n",
       " '0200hrtido dulu',\n",
       " '020101',\n",
       " '020101 clubs',\n",
       " '0203',\n",
       " '0203 financial',\n",
       " '0203 getting',\n",
       " '0203 inland',\n",
       " '0203 transfer',\n",
       " '020304',\n",
       " '020304 115423',\n",
       " '020604',\n",
       " '020604 went',\n",
       " '021',\n",
       " '021 drop',\n",
       " '021 ill',\n",
       " '021 piercings',\n",
       " '021 tattoos',\n",
       " '021 totally',\n",
       " '02109',\n",
       " '02109 number',\n",
       " '02115',\n",
       " '02118',\n",
       " '02118 gmodestpartnersorg',\n",
       " '021320',\n",
       " '021320 link',\n",
       " '021426',\n",
       " '021426 homepage',\n",
       " '0215',\n",
       " '0215 gmt',\n",
       " '021535',\n",
       " '021535 2004',\n",
       " '02162003',\n",
       " '02162003 essential',\n",
       " '0217',\n",
       " '0217 pm',\n",
       " '0218',\n",
       " '0218 pm',\n",
       " '02182004',\n",
       " '02182004 urllink',\n",
       " '0219',\n",
       " '0219 pm',\n",
       " '022',\n",
       " '022 favorite',\n",
       " '022 looks',\n",
       " '022 piercings',\n",
       " '022 µu',\n",
       " '0220',\n",
       " '0220 pm',\n",
       " '0221',\n",
       " '0221 pm',\n",
       " '0222',\n",
       " '0222 pm',\n",
       " '022227',\n",
       " '022227 2004',\n",
       " '0223',\n",
       " '0223 pm',\n",
       " '02232004',\n",
       " '0224',\n",
       " '0224 pm',\n",
       " '0225',\n",
       " '0225 pm',\n",
       " '0225 reverse',\n",
       " '02252004',\n",
       " '02252004 nbsp',\n",
       " '0226',\n",
       " '0226 pm',\n",
       " '022600',\n",
       " '022600 2004',\n",
       " '0227',\n",
       " '0227 pm',\n",
       " '0228',\n",
       " '0228 pm',\n",
       " '0229',\n",
       " '0229 pm',\n",
       " '023',\n",
       " '023 least',\n",
       " '023 released',\n",
       " '023 tattoos',\n",
       " '023 today',\n",
       " '0230',\n",
       " '0230 oni',\n",
       " '0230 pm',\n",
       " '0230 reminded',\n",
       " '0231',\n",
       " '0231 pm',\n",
       " '0232',\n",
       " '0232 pm',\n",
       " '0233',\n",
       " '0233 pm',\n",
       " '0234',\n",
       " '0234 pm',\n",
       " '0235',\n",
       " '0235 pm',\n",
       " '0236',\n",
       " '0236 pm',\n",
       " '0237',\n",
       " '0237 ian',\n",
       " '0237 pm',\n",
       " '023732',\n",
       " '023732 pm',\n",
       " '023746',\n",
       " '023746 pm',\n",
       " '023755',\n",
       " '023755 pm',\n",
       " '0238',\n",
       " '0238 pm',\n",
       " '023800',\n",
       " '023800 pm',\n",
       " '023801',\n",
       " '023801 pm',\n",
       " '023808',\n",
       " '023808 pm',\n",
       " '023847',\n",
       " '023847 pm',\n",
       " '023939',\n",
       " '023939 pm',\n",
       " '023946',\n",
       " '023946 pm',\n",
       " '023947',\n",
       " '023947 pm',\n",
       " '023f5unthat',\n",
       " '023f5unthat sarah',\n",
       " '024',\n",
       " '024 favorite',\n",
       " '024 tattoos',\n",
       " '024 todays',\n",
       " '0240',\n",
       " '0240 pm',\n",
       " '024009',\n",
       " '024009 pm',\n",
       " '0241',\n",
       " '0241 pm',\n",
       " '024201',\n",
       " '024201 pm',\n",
       " '0243',\n",
       " '0243 pm',\n",
       " '0244',\n",
       " '0244 pm',\n",
       " '0245',\n",
       " '0245 pm',\n",
       " '024528am',\n",
       " '024528am jaggonmaster',\n",
       " '0246',\n",
       " '0246 pm',\n",
       " '0247',\n",
       " '0247 pm',\n",
       " '024716',\n",
       " '024716 pm',\n",
       " '024723',\n",
       " '024723 pm',\n",
       " '0248',\n",
       " '0248 pm',\n",
       " '0249',\n",
       " '024908',\n",
       " '024908 pm',\n",
       " '025',\n",
       " '025 least',\n",
       " '025 liability',\n",
       " '025 seconds',\n",
       " '025 time',\n",
       " '025 todays',\n",
       " '0250',\n",
       " '0250 pm',\n",
       " '025050',\n",
       " '025050 blind',\n",
       " '0250h',\n",
       " '0250h ive',\n",
       " '0251',\n",
       " '0251 pm',\n",
       " '0252',\n",
       " '0252 pm',\n",
       " '0253',\n",
       " '0253 pm',\n",
       " '0254',\n",
       " '0254 pm',\n",
       " '0255',\n",
       " '0255 pm',\n",
       " '025613',\n",
       " '025613 pm',\n",
       " '0257',\n",
       " '0257 pm',\n",
       " '0258',\n",
       " '0258 pm',\n",
       " '025805',\n",
       " '025805 2004',\n",
       " '025808',\n",
       " '025808 2004',\n",
       " '026',\n",
       " '026 favorite',\n",
       " '026 main',\n",
       " '026 percent',\n",
       " '026 ready',\n",
       " '026 time',\n",
       " '026 today',\n",
       " '026903116',\n",
       " '026903116 nbsp',\n",
       " '026hr',\n",
       " '026hr raise',\n",
       " '027',\n",
       " '027 least',\n",
       " '027 mothers',\n",
       " '027 ready',\n",
       " '027604303',\n",
       " '027604303 ref',\n",
       " '027623577',\n",
       " '027623577 027604303',\n",
       " '028',\n",
       " '028 dodid',\n",
       " '028 fathers',\n",
       " '028 mothers',\n",
       " '028 plus',\n",
       " '029',\n",
       " '029 brothers',\n",
       " '029 fathers',\n",
       " '029 play',\n",
       " '029jpg',\n",
       " '029jpg urllink',\n",
       " '02haizmissed',\n",
       " '02haizmissed class',\n",
       " '02ip',\n",
       " '02ip 6750',\n",
       " '02july04',\n",
       " '02july04 week',\n",
       " '03',\n",
       " '03 013936',\n",
       " '03 013944',\n",
       " '03 02haizmissed',\n",
       " '03 034320',\n",
       " '03 034936',\n",
       " '03 035102',\n",
       " '03 035622',\n",
       " '03 04',\n",
       " '03 040748',\n",
       " '03 040751',\n",
       " '03 165336',\n",
       " '03 172515',\n",
       " '03 174546',\n",
       " '03 1972',\n",
       " '03 2003',\n",
       " '03 2004',\n",
       " '03 232612',\n",
       " '03 233534',\n",
       " '03 233628',\n",
       " '03 alan',\n",
       " '03 always',\n",
       " '03 ask',\n",
       " '03 aware',\n",
       " '03 back',\n",
       " '03 believe',\n",
       " '03 broke',\n",
       " '03 capitol',\n",
       " '03 could',\n",
       " '03 csi',\n",
       " '03 cuz',\n",
       " '03 deadbeat',\n",
       " '03 encoded',\n",
       " '03 evanescene',\n",
       " '03 ever',\n",
       " '03 fiesta',\n",
       " '03 focus',\n",
       " '03 freaky',\n",
       " '03 freds',\n",
       " '03 fucked',\n",
       " '03 gd',\n",
       " '03 gold',\n",
       " '03 greatest',\n",
       " '03 hair',\n",
       " '03 hate',\n",
       " '03 im',\n",
       " '03 jaime',\n",
       " '03 january',\n",
       " '03 jessica',\n",
       " '03 kameron',\n",
       " '03 kfc',\n",
       " '03 kg',\n",
       " '03 knows',\n",
       " '03 like',\n",
       " '03 lives',\n",
       " '03 love',\n",
       " '03 marshmallow',\n",
       " '03 mcdonalds',\n",
       " '03 meet',\n",
       " '03 met',\n",
       " '03 much',\n",
       " '03 myherour',\n",
       " '03 never',\n",
       " '03 new',\n",
       " '03 pineapple',\n",
       " '03 popular',\n",
       " '03 randomness',\n",
       " '03 rem',\n",
       " '03 remove',\n",
       " '03 school',\n",
       " '03 seem',\n",
       " '03 seemed',\n",
       " '03 since',\n",
       " '03 start',\n",
       " '03 state',\n",
       " '03 suppsose',\n",
       " '03 thefrenchkicksclosetomodern',\n",
       " '03 thought',\n",
       " '03 time',\n",
       " '03 timetable',\n",
       " '03 tokyo',\n",
       " '03 untitled',\n",
       " '03 videos',\n",
       " '03 water',\n",
       " '03 way',\n",
       " '03 whats',\n",
       " '03 would',\n",
       " '03 藉口',\n",
       " '030',\n",
       " '030 arewere',\n",
       " '030 sisters',\n",
       " '030 stepparents',\n",
       " '030 total',\n",
       " '0300',\n",
       " '0300 go',\n",
       " '0300 someone',\n",
       " '0300 things',\n",
       " '0300hrapa',\n",
       " '0300hrapa lagi',\n",
       " '0300hrs',\n",
       " '0300hrs local',\n",
       " '030101',\n",
       " '030101 restaurants',\n",
       " '030208',\n",
       " '030208 2004',\n",
       " '030214',\n",
       " '030214 2004',\n",
       " '0303',\n",
       " '0303 afternoon',\n",
       " '0303 pass',\n",
       " '030303',\n",
       " '030303 gods',\n",
       " '030303 world',\n",
       " '030303 wouldnt',\n",
       " '0303030303',\n",
       " '0303030303 wont',\n",
       " '0304',\n",
       " '0304 hat',\n",
       " '0304 identity',\n",
       " '0304 retire',\n",
       " '030503',\n",
       " '030503 sat',\n",
       " '030504',\n",
       " '030504 whats',\n",
       " '030804',\n",
       " '030804 original',\n",
       " '030952',\n",
       " '030952 hey',\n",
       " '031',\n",
       " '031 brotherss',\n",
       " '031 favorite',\n",
       " '031 humiliating',\n",
       " '0312002',\n",
       " '0312002 limited',\n",
       " '0315',\n",
       " '0315 aogatססn饴rjifcbqӹbӧaҥ',\n",
       " '0315 somewhere',\n",
       " '03152004',\n",
       " '03152004 urllink',\n",
       " '0318',\n",
       " '0318 hrs',\n",
       " '03182004',\n",
       " ...]"
      ]
     },
     "execution_count": 48,
     "metadata": {
      "tags": []
     },
     "output_type": "execute_result"
    }
   ],
   "source": [
    "cvect.get_feature_names()"
   ]
  },
  {
   "cell_type": "code",
   "execution_count": null,
   "metadata": {
    "id": "OT5gON3kWGMy"
   },
   "outputs": [],
   "source": [
    "X_train_ct = cvect.transform(X_train)"
   ]
  },
  {
   "cell_type": "code",
   "execution_count": null,
   "metadata": {
    "colab": {
     "base_uri": "https://localhost:8080/"
    },
    "id": "1FiABnb8W8JZ",
    "outputId": "9082175e-a8bc-4ce9-f42a-6372ae601e2e"
   },
   "outputs": [
    {
     "data": {
      "text/plain": [
       "<1x4517076 sparse matrix of type '<class 'numpy.int64'>'\n",
       "\twith 483 stored elements in Compressed Sparse Row format>"
      ]
     },
     "execution_count": 50,
     "metadata": {
      "tags": []
     },
     "output_type": "execute_result"
    }
   ],
   "source": [
    "X_train_ct[0]"
   ]
  },
  {
   "cell_type": "code",
   "execution_count": null,
   "metadata": {
    "id": "_ZSnqvsBXJ56"
   },
   "outputs": [],
   "source": [
    "X_test_ct = cvect.transform(X_test)"
   ]
  },
  {
   "cell_type": "code",
   "execution_count": null,
   "metadata": {
    "colab": {
     "base_uri": "https://localhost:8080/"
    },
    "id": "lDhyPGrNXML3",
    "outputId": "a80178ac-bec0-4090-d76e-682f34d2b9b7"
   },
   "outputs": [
    {
     "data": {
      "text/plain": [
       "<20000x4517076 sparse matrix of type '<class 'numpy.int64'>'\n",
       "\twith 2633973 stored elements in Compressed Sparse Row format>"
      ]
     },
     "execution_count": 52,
     "metadata": {
      "tags": []
     },
     "output_type": "execute_result"
    }
   ],
   "source": [
    "X_test_ct"
   ]
  },
  {
   "cell_type": "code",
   "execution_count": null,
   "metadata": {
    "colab": {
     "base_uri": "https://localhost:8080/"
    },
    "id": "0i9oTzObXXuX",
    "outputId": "5366dafe-0e42-4f68-f620-0f8475a0f20e"
   },
   "outputs": [
    {
     "data": {
      "text/plain": [
       "['00',\n",
       " '00 damarcus',\n",
       " '00 damn',\n",
       " '00 doesnt',\n",
       " '00 dont',\n",
       " '00 draw',\n",
       " '00 games',\n",
       " '00 laughed',\n",
       " '00 lil',\n",
       " '00 morning']"
      ]
     },
     "execution_count": 53,
     "metadata": {
      "tags": []
     },
     "output_type": "execute_result"
    }
   ],
   "source": [
    "cvect.get_feature_names()[:10]"
   ]
  },
  {
   "cell_type": "code",
   "execution_count": null,
   "metadata": {
    "id": "UeeLWYyGXc_u"
   },
   "outputs": [],
   "source": [
    "label_counts=dict()\n",
    "\n",
    "for labels in blog_df.labels.values:\n",
    "    for label in labels:\n",
    "        if label in label_counts:\n",
    "            label_counts[str(label)]+=1\n",
    "        else:\n",
    "            label_counts[str(label)]=1"
   ]
  },
  {
   "cell_type": "code",
   "execution_count": null,
   "metadata": {
    "colab": {
     "base_uri": "https://localhost:8080/"
    },
    "id": "FjjI3C_jXksm",
    "outputId": "ea7a68cc-feef-4693-8dfc-ad841dcc6907"
   },
   "outputs": [
    {
     "data": {
      "text/plain": [
       "{'13': 1,\n",
       " '14': 1,\n",
       " '15': 1,\n",
       " '16': 1,\n",
       " '17': 1,\n",
       " '23': 1,\n",
       " '24': 1,\n",
       " '25': 1,\n",
       " '26': 1,\n",
       " '27': 1,\n",
       " '33': 1,\n",
       " '34': 1,\n",
       " '35': 1,\n",
       " '36': 1,\n",
       " '37': 1,\n",
       " '38': 1,\n",
       " '39': 1,\n",
       " '40': 1,\n",
       " '41': 1,\n",
       " '42': 1,\n",
       " '43': 1,\n",
       " '44': 1,\n",
       " '45': 1,\n",
       " '46': 1,\n",
       " '47': 1,\n",
       " '48': 1,\n",
       " 'Accounting': 528,\n",
       " 'Advertising': 766,\n",
       " 'Agriculture': 168,\n",
       " 'Aquarius': 9050,\n",
       " 'Architecture': 83,\n",
       " 'Aries': 10637,\n",
       " 'Arts': 5031,\n",
       " 'Automotive': 124,\n",
       " 'Banking': 354,\n",
       " 'Biotech': 324,\n",
       " 'BusinessServices': 626,\n",
       " 'Cancer': 9253,\n",
       " 'Capricorn': 8723,\n",
       " 'Chemicals': 305,\n",
       " 'Communications-Media': 2830,\n",
       " 'Construction': 250,\n",
       " 'Consulting': 905,\n",
       " 'Education': 5553,\n",
       " 'Engineering': 2332,\n",
       " 'Environment': 6,\n",
       " 'Fashion': 1898,\n",
       " 'Gemini': 9225,\n",
       " 'Government': 2055,\n",
       " 'HumanResources': 209,\n",
       " 'Internet': 2251,\n",
       " 'InvestmentBanking': 244,\n",
       " 'Law': 360,\n",
       " 'LawEnforcement-Security': 368,\n",
       " 'Leo': 8230,\n",
       " 'Libra': 7250,\n",
       " 'Manufacturing': 542,\n",
       " 'Maritime': 59,\n",
       " 'Marketing': 726,\n",
       " 'Military': 798,\n",
       " 'Museums-Libraries': 308,\n",
       " 'Non-Profit': 1326,\n",
       " 'Pisces': 7553,\n",
       " 'Publishing': 1079,\n",
       " 'RealEstate': 149,\n",
       " 'Religion': 1081,\n",
       " 'Sagittarius': 7366,\n",
       " 'Science': 1090,\n",
       " 'Scorpio': 7049,\n",
       " 'Sports-Recreation': 406,\n",
       " 'Student': 22122,\n",
       " 'Taurus': 8530,\n",
       " 'Technology': 8484,\n",
       " 'Telecommunications': 165,\n",
       " 'Tourism': 253,\n",
       " 'Transportation': 745,\n",
       " 'Virgo': 7134,\n",
       " 'female': 46642,\n",
       " 'indUnk': 33097,\n",
       " 'male': 53358}"
      ]
     },
     "execution_count": 55,
     "metadata": {
      "tags": []
     },
     "output_type": "execute_result"
    }
   ],
   "source": [
    "label_counts"
   ]
  },
  {
   "cell_type": "markdown",
   "metadata": {
    "id": "aDpqjotKXuKL"
   },
   "source": [
    "\n",
    "\n",
    "*   Transform the labels\n",
    "\n",
    "\n"
   ]
  },
  {
   "cell_type": "code",
   "execution_count": null,
   "metadata": {
    "id": "DJ-1TkmQXxm_"
   },
   "outputs": [],
   "source": [
    "from sklearn.preprocessing import MultiLabelBinarizer\n",
    "binarizer=MultiLabelBinarizer(classes=sorted(label_counts.keys()))"
   ]
  },
  {
   "cell_type": "code",
   "execution_count": null,
   "metadata": {
    "id": "dq6XzqkkX2On"
   },
   "outputs": [],
   "source": [
    "y_train = binarizer.fit_transform(y_train)"
   ]
  },
  {
   "cell_type": "code",
   "execution_count": null,
   "metadata": {
    "id": "HkrJkl1qX5f3"
   },
   "outputs": [],
   "source": [
    "y_test = binarizer.transform(y_test)"
   ]
  },
  {
   "cell_type": "markdown",
   "metadata": {
    "id": "Vrs0BhjbX_Aj"
   },
   "source": [
    "**3. Design, train, tune and test the best text classifier.**"
   ]
  },
  {
   "cell_type": "code",
   "execution_count": null,
   "metadata": {
    "id": "ZB3TJbRLX6zA"
   },
   "outputs": [],
   "source": [
    "from sklearn.multiclass import OneVsRestClassifier\n",
    "from sklearn.linear_model import LogisticRegression"
   ]
  },
  {
   "cell_type": "code",
   "execution_count": null,
   "metadata": {
    "colab": {
     "base_uri": "https://localhost:8080/"
    },
    "id": "NognIadmYGkH",
    "outputId": "cc0aa99b-e440-456e-8fd6-591d5475aa3a"
   },
   "outputs": [
    {
     "data": {
      "text/plain": [
       "OneVsRestClassifier(estimator=LogisticRegression(C=1.0, class_weight=None,\n",
       "                                                 dual=False, fit_intercept=True,\n",
       "                                                 intercept_scaling=1,\n",
       "                                                 l1_ratio=None, max_iter=100,\n",
       "                                                 multi_class='auto',\n",
       "                                                 n_jobs=None, penalty='l2',\n",
       "                                                 random_state=None,\n",
       "                                                 solver='lbfgs', tol=0.0001,\n",
       "                                                 verbose=0, warm_start=False),\n",
       "                    n_jobs=None)"
      ]
     },
     "execution_count": 60,
     "metadata": {
      "tags": []
     },
     "output_type": "execute_result"
    }
   ],
   "source": [
    "model=LogisticRegression(solver='lbfgs', max_iter=100)\n",
    "model=OneVsRestClassifier(model)\n",
    "model.fit(X_train_ct,y_train)"
   ]
  },
  {
   "cell_type": "code",
   "execution_count": null,
   "metadata": {
    "id": "wwKv9XKRYJmg"
   },
   "outputs": [],
   "source": [
    "Y_pred=model.predict(X_test_ct)"
   ]
  },
  {
   "cell_type": "code",
   "execution_count": null,
   "metadata": {
    "id": "L-6zfUjyu5ys"
   },
   "outputs": [],
   "source": [
    "from sklearn.metrics import accuracy_score\n",
    "from sklearn.metrics import f1_score\n",
    "from sklearn.metrics import average_precision_score\n",
    "from sklearn.metrics import recall_score\n",
    "\n",
    "def display_metrics_micro(Ytest, Ypred):\n",
    "    print('Accuracy score: ', accuracy_score(Ytest, Ypred))\n",
    "    print('F1 score: Micro', f1_score(Ytest, Ypred, average='micro'))\n",
    "    print('Average precision score: Micro', average_precision_score(Ytest, Ypred, average='micro'))\n",
    "    print('Average recall score: Micro', recall_score(Ytest, Ypred, average='micro'))\n",
    "    \n",
    "    \n",
    "def display_metrics_macro(Ytest, Ypred):\n",
    "    print('Accuracy score: ', accuracy_score(Ytest, Ypred))\n",
    "    print('F1 score: Macro', f1_score(Ytest, Ypred, average='macro'))\n",
    "    print('Average recall score: MAcro', recall_score(Ytest, Ypred, average='macro'))\n",
    "    \n",
    "def display_metrics_weighted(Ytest, Ypred):\n",
    "    print('Accuracy score: ', accuracy_score(Ytest, Ypred))\n",
    "    print('F1 score: weighted', f1_score(Ytest, Ypred, average='weighted'))\n",
    "    print('Average precision score: weighted', average_precision_score(Ytest, Ypred, average='weighted'))\n",
    "    print('Average recall score: weighted', recall_score(Ytest, Ypred, average='weighted'))"
   ]
  },
  {
   "cell_type": "code",
   "execution_count": null,
   "metadata": {
    "colab": {
     "base_uri": "https://localhost:8080/"
    },
    "id": "KtLHzJnChXrH",
    "outputId": "39c4864d-7011-4e81-8372-bd56b6be9042"
   },
   "outputs": [
    {
     "name": "stdout",
     "output_type": "stream",
     "text": [
      "Accuracy score:  0.10805\n",
      "F1 score: Micro 0.47957403627988643\n",
      "Average precision score: Micro 0.29041532170720996\n",
      "Average recall score: Micro 0.35051666666666664\n"
     ]
    }
   ],
   "source": [
    "display_metrics_micro(y_test,Y_pred)"
   ]
  },
  {
   "cell_type": "code",
   "execution_count": null,
   "metadata": {
    "colab": {
     "base_uri": "https://localhost:8080/"
    },
    "id": "ajFTX7jQvCMI",
    "outputId": "a467e320-33fa-4ca3-8707-3ab577c6b015"
   },
   "outputs": [
    {
     "name": "stdout",
     "output_type": "stream",
     "text": [
      "Accuracy score:  0.10805\n",
      "F1 score: Macro 0.15647784738937287\n",
      "Average recall score: MAcro 0.10398988804281853\n"
     ]
    }
   ],
   "source": [
    "display_metrics_macro(y_test,Y_pred)"
   ]
  },
  {
   "cell_type": "code",
   "execution_count": null,
   "metadata": {
    "colab": {
     "base_uri": "https://localhost:8080/"
    },
    "id": "dLeapcU4vJVk",
    "outputId": "c0815607-28d3-402f-ea65-fd7e1c4c78e8"
   },
   "outputs": [
    {
     "name": "stdout",
     "output_type": "stream",
     "text": [
      "Accuracy score:  0.10805\n",
      "F1 score: weighted 0.4380968215447316\n",
      "Average precision score: weighted 0.3902526112805027\n",
      "Average recall score: weighted 0.35051666666666664\n"
     ]
    }
   ],
   "source": [
    "display_metrics_weighted(y_test,Y_pred)"
   ]
  },
  {
   "cell_type": "markdown",
   "metadata": {
    "id": "cLyGqEsqvSnB"
   },
   "source": [
    "**5. Print the true vs predicted labels for any 5 entries from the dataset.**"
   ]
  },
  {
   "cell_type": "code",
   "execution_count": null,
   "metadata": {
    "id": "m8y_citKvUBd"
   },
   "outputs": [],
   "source": [
    "preds = Y_pred[:15]\n",
    "actuals = y_test[:15]"
   ]
  },
  {
   "cell_type": "code",
   "execution_count": null,
   "metadata": {
    "colab": {
     "base_uri": "https://localhost:8080/"
    },
    "id": "P3hXTcKNvZcp",
    "outputId": "76bae45c-59b3-4167-e372-e277c446f94f"
   },
   "outputs": [
    {
     "data": {
      "text/plain": [
       "[('Aries', 'Fashion', 'male'),\n",
       " ('Libra', 'Student', 'male'),\n",
       " ('Sagittarius', 'indUnk', 'male'),\n",
       " ('Aquarius', 'indUnk', 'male'),\n",
       " ('Cancer', 'Student', 'male'),\n",
       " ('Pisces', 'Transportation', 'male'),\n",
       " ('Arts', 'Capricorn', 'female'),\n",
       " ('Capricorn', 'Student', 'male'),\n",
       " ('Cancer', 'Religion', 'male'),\n",
       " ('Libra', 'indUnk', 'male'),\n",
       " ('Aquarius', 'female', 'indUnk'),\n",
       " ('Capricorn', 'Consulting', 'female'),\n",
       " ('Virgo', 'indUnk', 'male'),\n",
       " ('Internet', 'Sagittarius', 'male'),\n",
       " ('Scorpio', 'Technology', 'male')]"
      ]
     },
     "execution_count": 70,
     "metadata": {
      "tags": []
     },
     "output_type": "execute_result"
    }
   ],
   "source": [
    "five_actual = binarizer.inverse_transform(actuals)\n",
    "five_actual"
   ]
  },
  {
   "cell_type": "code",
   "execution_count": null,
   "metadata": {
    "colab": {
     "base_uri": "https://localhost:8080/"
    },
    "id": "eoZjREq2va5Z",
    "outputId": "f9a6c6de-bade-49ac-fbb1-581ba956d96a"
   },
   "outputs": [
    {
     "data": {
      "text/plain": [
       "[(),\n",
       " ('Student', 'female'),\n",
       " (),\n",
       " ('male',),\n",
       " ('Cancer', 'female'),\n",
       " ('Pisces', 'Transportation', 'male'),\n",
       " ('female',),\n",
       " ('Student',),\n",
       " ('Religion', 'female'),\n",
       " ('male',),\n",
       " ('female',),\n",
       " ('Capricorn', 'Consulting', 'female'),\n",
       " (),\n",
       " ('male',),\n",
       " ('Scorpio', 'male')]"
      ]
     },
     "execution_count": 71,
     "metadata": {
      "tags": []
     },
     "output_type": "execute_result"
    }
   ],
   "source": [
    "five_pred = binarizer.inverse_transform(preds)\n",
    "five_pred"
   ]
  },
  {
   "cell_type": "code",
   "execution_count": null,
   "metadata": {
    "colab": {
     "base_uri": "https://localhost:8080/"
    },
    "id": "LEJf3khAvdrC",
    "outputId": "168b3839-76a1-47c5-e3ed-bb4451e21f64"
   },
   "outputs": [
    {
     "name": "stdout",
     "output_type": "stream",
     "text": [
      "('Student', 'Virgo', 'male')\n",
      "('Student', 'Virgo', 'male')\n"
     ]
    }
   ],
   "source": [
    "print(binarizer.inverse_transform(Y_pred)[877])\n",
    "print(binarizer.inverse_transform(y_test)[877])"
   ]
  },
  {
   "cell_type": "code",
   "execution_count": null,
   "metadata": {
    "colab": {
     "base_uri": "https://localhost:8080/"
    },
    "id": "SXuOc0kMvjou",
    "outputId": "562a7727-4e80-41e2-d3b4-f81455e46d4e"
   },
   "outputs": [
    {
     "name": "stdout",
     "output_type": "stream",
     "text": [
      "()\n",
      "('Libra', 'female', 'indUnk')\n"
     ]
    }
   ],
   "source": [
    "print(binarizer.inverse_transform(Y_pred)[514])\n",
    "print(binarizer.inverse_transform(y_test)[514])"
   ]
  },
  {
   "cell_type": "code",
   "execution_count": null,
   "metadata": {
    "colab": {
     "base_uri": "https://localhost:8080/"
    },
    "id": "HmIq3vcBvouJ",
    "outputId": "fb5dd787-550f-417a-c953-bc60899b13d5"
   },
   "outputs": [
    {
     "name": "stdout",
     "output_type": "stream",
     "text": [
      "('Cancer', 'Education', 'Pisces', 'male')\n",
      "('Education', 'Pisces', 'male')\n"
     ]
    }
   ],
   "source": [
    "print(binarizer.inverse_transform(Y_pred)[99])\n",
    "print(binarizer.inverse_transform(y_test)[99])"
   ]
  },
  {
   "cell_type": "code",
   "execution_count": null,
   "metadata": {
    "colab": {
     "base_uri": "https://localhost:8080/"
    },
    "id": "722RQDSKvq2a",
    "outputId": "0464b098-313c-4763-e4e3-10be7e628eca"
   },
   "outputs": [
    {
     "name": "stdout",
     "output_type": "stream",
     "text": [
      "('male',)\n",
      "('Pisces', 'Student', 'female')\n"
     ]
    }
   ],
   "source": [
    "print(binarizer.inverse_transform(Y_pred)[499])\n",
    "print(binarizer.inverse_transform(y_test)[499])"
   ]
  },
  {
   "cell_type": "code",
   "execution_count": null,
   "metadata": {
    "colab": {
     "base_uri": "https://localhost:8080/"
    },
    "id": "VSo7JCiEvuoE",
    "outputId": "c316410a-6ddc-49dc-c411-272b4d8cad24"
   },
   "outputs": [
    {
     "name": "stdout",
     "output_type": "stream",
     "text": [
      "('Student', 'female')\n",
      "('Libra', 'Student', 'male')\n"
     ]
    }
   ],
   "source": [
    "print(binarizer.inverse_transform(Y_pred)[699])\n",
    "print(binarizer.inverse_transform(y_test)[699])"
   ]
  },
  {
   "cell_type": "code",
   "execution_count": null,
   "metadata": {
    "colab": {
     "base_uri": "https://localhost:8080/"
    },
    "id": "n1YDOZtSv3l6",
    "outputId": "6499330d-8f93-4fd9-845e-200ab9b0e1c9"
   },
   "outputs": [
    {
     "name": "stdout",
     "output_type": "stream",
     "text": [
      "[3154, 19276, 6822, 2101, 15931]\n",
      "('male',)\n",
      "('Gemini', 'Manufacturing', 'female')\n",
      "('Sagittarius', 'indUnk', 'male')\n",
      "('Arts', 'Taurus', 'male')\n",
      "('Capricorn', 'Student', 'female')\n",
      "('Capricorn', 'Student', 'female')\n",
      "('Technology', 'male')\n",
      "('Taurus', 'Technology', 'female')\n",
      "('male',)\n",
      "('Pisces', 'Science', 'male')\n"
     ]
    }
   ],
   "source": [
    "import random\n",
    "j=[]\n",
    "for i in range(5):\n",
    "    j.append(random.randint(300,len(Y_pred)))\n",
    "   \n",
    "print(j)\n",
    "\n",
    "for k in j:    \n",
    "    print(binarizer.inverse_transform(Y_pred)[k])\n",
    "    print(binarizer.inverse_transform(y_test)[k])"
   ]
  },
  {
   "cell_type": "code",
   "execution_count": null,
   "metadata": {
    "colab": {
     "base_uri": "https://localhost:8080/"
    },
    "id": "LhceuJjJv8L9",
    "outputId": "fe3ef710-1dc7-426c-9d3e-8f386fc03039"
   },
   "outputs": [
    {
     "name": "stdout",
     "output_type": "stream",
     "text": [
      "Text:\t  (0, 466872)\t1\n",
      "  (0, 584973)\t1\n",
      "  (0, 584975)\t1\n",
      "  (0, 1781828)\t1\n",
      "  (0, 2442113)\t1\n",
      "  (0, 2442132)\t1\n",
      "  (0, 3036822)\t1\n",
      "True labels:\tAries,Fashion,male\n",
      "Predicted labels:\t\n",
      "\n",
      "\n",
      "Text:\t  (0, 8711)\t1\n",
      "  (0, 9452)\t1\n",
      "  (0, 21144)\t1\n",
      "  (0, 67661)\t1\n",
      "  (0, 67771)\t1\n",
      "  (0, 74496)\t1\n",
      "  (0, 78471)\t1\n",
      "  (0, 120596)\t2\n",
      "  (0, 121772)\t1\n",
      "  (0, 126920)\t1\n",
      "  (0, 157801)\t2\n",
      "  (0, 157893)\t1\n",
      "  (0, 178920)\t1\n",
      "  (0, 182108)\t1\n",
      "  (0, 182417)\t1\n",
      "  (0, 183363)\t2\n",
      "  (0, 194027)\t1\n",
      "  (0, 202361)\t5\n",
      "  (0, 204077)\t1\n",
      "  (0, 205064)\t1\n",
      "  (0, 239970)\t1\n",
      "  (0, 240321)\t1\n",
      "  (0, 241441)\t1\n",
      "  (0, 241749)\t1\n",
      "  (0, 253541)\t9\n",
      "  :\t:\n",
      "  (0, 4449084)\t1\n",
      "  (0, 4449595)\t1\n",
      "  (0, 4449626)\t1\n",
      "  (0, 4450750)\t3\n",
      "  (0, 4451466)\t1\n",
      "  (0, 4451498)\t1\n",
      "  (0, 4452129)\t1\n",
      "  (0, 4456096)\t2\n",
      "  (0, 4456698)\t1\n",
      "  (0, 4463753)\t2\n",
      "  (0, 4464335)\t2\n",
      "  (0, 4469203)\t1\n",
      "  (0, 4469270)\t1\n",
      "  (0, 4471411)\t1\n",
      "  (0, 4490047)\t1\n",
      "  (0, 4490716)\t1\n",
      "  (0, 4497133)\t1\n",
      "  (0, 4497652)\t1\n",
      "  (0, 4499765)\t2\n",
      "  (0, 4500864)\t1\n",
      "  (0, 4501722)\t1\n",
      "  (0, 4503110)\t1\n",
      "  (0, 4503268)\t1\n",
      "  (0, 4505964)\t1\n",
      "  (0, 4506086)\t1\n",
      "True labels:\tLibra,Student,male\n",
      "Predicted labels:\tStudent,female\n",
      "\n",
      "\n",
      "Text:\t  (0, 318611)\t1\n",
      "  (0, 357067)\t1\n",
      "  (0, 361134)\t1\n",
      "  (0, 391213)\t1\n",
      "  (0, 391354)\t1\n",
      "  (0, 543978)\t1\n",
      "  (0, 631341)\t1\n",
      "  (0, 633217)\t1\n",
      "  (0, 1132696)\t1\n",
      "  (0, 1541635)\t1\n",
      "  (0, 1543316)\t1\n",
      "  (0, 1558561)\t1\n",
      "  (0, 1560873)\t1\n",
      "  (0, 1664615)\t1\n",
      "  (0, 1665313)\t1\n",
      "  (0, 1701663)\t1\n",
      "  (0, 1702708)\t1\n",
      "  (0, 1816720)\t1\n",
      "  (0, 1816790)\t1\n",
      "  (0, 1891794)\t1\n",
      "  (0, 2075749)\t1\n",
      "  (0, 2375949)\t1\n",
      "  (0, 2376212)\t1\n",
      "  (0, 2396642)\t1\n",
      "  (0, 2534051)\t1\n",
      "  (0, 2534209)\t1\n",
      "  (0, 2534666)\t1\n",
      "  (0, 2761403)\t1\n",
      "  (0, 2976648)\t1\n",
      "  (0, 2977034)\t1\n",
      "  (0, 3195038)\t1\n",
      "  (0, 3196902)\t1\n",
      "  (0, 3694568)\t1\n",
      "  (0, 4030498)\t1\n",
      "  (0, 4030812)\t1\n",
      "  (0, 4082654)\t1\n",
      "  (0, 4084026)\t1\n",
      "  (0, 4114448)\t1\n",
      "  (0, 4114499)\t1\n",
      "  (0, 4250090)\t1\n",
      "  (0, 4250169)\t1\n",
      "  (0, 4254666)\t1\n",
      "  (0, 4288220)\t1\n",
      "  (0, 4288410)\t1\n",
      "  (0, 4363561)\t1\n",
      "  (0, 4364781)\t1\n",
      "  (0, 4375710)\t1\n",
      "True labels:\tSagittarius,indUnk,male\n",
      "Predicted labels:\t\n",
      "\n",
      "\n",
      "Text:\t  (0, 262397)\t1\n",
      "  (0, 427386)\t1\n",
      "  (0, 427584)\t1\n",
      "  (0, 489553)\t2\n",
      "  (0, 491466)\t1\n",
      "  (0, 778570)\t1\n",
      "  (0, 827762)\t1\n",
      "  (0, 827804)\t1\n",
      "  (0, 1089255)\t1\n",
      "  (0, 1290818)\t1\n",
      "  (0, 1291092)\t1\n",
      "  (0, 1439970)\t1\n",
      "  (0, 1441106)\t1\n",
      "  (0, 1491504)\t1\n",
      "  (0, 1695395)\t1\n",
      "  (0, 1695479)\t1\n",
      "  (0, 1863676)\t1\n",
      "  (0, 1871386)\t1\n",
      "  (0, 1872291)\t1\n",
      "  (0, 1934343)\t2\n",
      "  (0, 1935835)\t1\n",
      "  (0, 2458186)\t1\n",
      "  (0, 3065419)\t1\n",
      "  (0, 3067119)\t1\n",
      "  (0, 3077719)\t1\n",
      "  (0, 3165151)\t1\n",
      "  (0, 3165779)\t1\n",
      "  (0, 3451526)\t1\n",
      "  (0, 3451712)\t1\n",
      "  (0, 3627750)\t1\n",
      "  (0, 3990493)\t1\n",
      "  (0, 3994142)\t1\n",
      "  (0, 4044833)\t1\n",
      "  (0, 4210953)\t1\n",
      "  (0, 4323800)\t1\n",
      "  (0, 4324426)\t1\n",
      "  (0, 4329558)\t1\n",
      "  (0, 4329758)\t1\n",
      "True labels:\tAquarius,indUnk,male\n",
      "Predicted labels:\tmale\n",
      "\n",
      "\n",
      "Text:\t  (0, 93889)\t1\n",
      "  (0, 94950)\t1\n",
      "  (0, 183363)\t1\n",
      "  (0, 183680)\t1\n",
      "  (0, 202361)\t1\n",
      "  (0, 202771)\t1\n",
      "  (0, 207573)\t1\n",
      "  (0, 207908)\t1\n",
      "  (0, 303977)\t1\n",
      "  (0, 304053)\t1\n",
      "  (0, 343594)\t1\n",
      "  (0, 345896)\t1\n",
      "  (0, 409433)\t2\n",
      "  (0, 409468)\t1\n",
      "  (0, 409824)\t1\n",
      "  (0, 470504)\t1\n",
      "  (0, 471990)\t1\n",
      "  (0, 548905)\t1\n",
      "  (0, 548926)\t1\n",
      "  (0, 554334)\t1\n",
      "  (0, 554345)\t1\n",
      "  (0, 631341)\t1\n",
      "  (0, 631811)\t1\n",
      "  (0, 688828)\t1\n",
      "  (0, 689313)\t1\n",
      "  :\t:\n",
      "  (0, 3598385)\t1\n",
      "  (0, 3598435)\t1\n",
      "  (0, 3600789)\t2\n",
      "  (0, 3600825)\t1\n",
      "  (0, 3642888)\t2\n",
      "  (0, 3643411)\t1\n",
      "  (0, 3643522)\t1\n",
      "  (0, 3849453)\t1\n",
      "  (0, 3849921)\t1\n",
      "  (0, 3990493)\t1\n",
      "  (0, 3998308)\t1\n",
      "  (0, 4264204)\t3\n",
      "  (0, 4264275)\t1\n",
      "  (0, 4264345)\t1\n",
      "  (0, 4264377)\t1\n",
      "  (0, 4269184)\t1\n",
      "  (0, 4304476)\t1\n",
      "  (0, 4305161)\t1\n",
      "  (0, 4382008)\t1\n",
      "  (0, 4400510)\t1\n",
      "  (0, 4401322)\t1\n",
      "  (0, 4404660)\t1\n",
      "  (0, 4405828)\t1\n",
      "  (0, 4420772)\t1\n",
      "  (0, 4422228)\t1\n",
      "True labels:\tCancer,Student,male\n",
      "Predicted labels:\tCancer,female\n",
      "\n",
      "\n"
     ]
    }
   ],
   "source": [
    "Ypred_inversed = binarizer.inverse_transform(Y_pred)\n",
    "y_test_inversed = binarizer.inverse_transform(y_test)\n",
    "for i in range(5):\n",
    "    print('Text:\\t{}\\nTrue labels:\\t{}\\nPredicted labels:\\t{}\\n\\n'.format(\n",
    "        X_test_ct[i],\n",
    "        ','.join(y_test_inversed[i]),\n",
    "        ','.join(Ypred_inversed[i])\n",
    "    ))"
   ]
  },
  {
   "cell_type": "markdown",
   "metadata": {
    "id": "emnnPc0DQtWK"
   },
   "source": [
    "\n",
    "\n",
    "\n",
    "\n",
    "\n",
    "**we have solved Multilabel classification problem that predicts multiple features of the author of a given text**\n"
   ]
  }
 ],
 "metadata": {
  "colab": {
   "collapsed_sections": [],
   "name": "NLP Part-I.ipynb",
   "provenance": []
  },
  "kernelspec": {
   "display_name": "Python 3",
   "language": "python",
   "name": "python3"
  },
  "language_info": {
   "codemirror_mode": {
    "name": "ipython",
    "version": 3
   },
   "file_extension": ".py",
   "mimetype": "text/x-python",
   "name": "python",
   "nbconvert_exporter": "python",
   "pygments_lexer": "ipython3",
   "version": "3.8.8"
  }
 },
 "nbformat": 4,
 "nbformat_minor": 1
}
